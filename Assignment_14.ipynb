{
 "cells": [
  {
   "cell_type": "markdown",
   "id": "5ff20639",
   "metadata": {},
   "source": [
    "## Assignment_14 Solutions:\n",
    "### Submitted by ddgavale on 27.12.2022 (ineuron's-FSDS-basic-python-assignment)"
   ]
  },
  {
   "cell_type": "markdown",
   "id": "b3200d8b",
   "metadata": {},
   "source": [
    "#### 1. What does RGBA stand for?\n",
    "**Ans:** RGBA is a four-channel format containing data for `Red`, `Green`, `Blue`, and an `Alpha` value. Where Alpha Represents the Opacity."
   ]
  },
  {
   "cell_type": "markdown",
   "id": "5e655f7a",
   "metadata": {},
   "source": [
    "#### 2. From the Pillow module, how do you get the RGBA value of any images?\n",
    "**Ans:** `ImageColor.getcolor()` gives rgba value of any image."
   ]
  },
  {
   "cell_type": "markdown",
   "id": "6d9f6cfc",
   "metadata": {},
   "source": [
    "#### 3. What is a box tuple, and how does it work?\n",
    "**Ans:** A box tuple is a tuple value of four integers: the left-edge x-coordinate, the top-edge y-coordinate,the width, and the height, respectively."
   ]
  },
  {
   "cell_type": "markdown",
   "id": "a5dd1df9",
   "metadata": {},
   "source": [
    "#### 4. Use your image and load in notebook then, How can you find out the width and height of an Image object?"
   ]
  },
  {
   "cell_type": "code",
   "execution_count": 3,
   "id": "c7b421f7",
   "metadata": {},
   "outputs": [
    {
     "name": "stdout",
     "output_type": "stream",
     "text": [
      "Width, Height -> (640, 640)\n",
      "Width, Height -> 640,640\n",
      "Width, Height -> 640,640\n"
     ]
    }
   ],
   "source": [
    "#Example Program\n",
    "from PIL import Image\n",
    "pic = Image.open('ashok_chakra.jpg')\n",
    "print(f'Width, Height -> {pic.size}') # Approach 1\n",
    "print(f'Width, Height -> {pic.width},{pic.height}') # Approach 2\n",
    "width,height = pic.size\n",
    "print(f'Width, Height -> {width},{height}') # Approach 3"
   ]
  },
  {
   "cell_type": "markdown",
   "id": "8c59d17a",
   "metadata": {},
   "source": [
    "#### 5. What method would you call to get Image object for a 100×100 image, excluding the lower-left quarter of it?"
   ]
  },
  {
   "cell_type": "code",
   "execution_count": null,
   "id": "177afbc1",
   "metadata": {},
   "outputs": [],
   "source": [
    "from PIL import Image\n",
    "img = Image.open('ashok_chakra.jpg')\n",
    "new_img = img.crop((0,50,50,50))"
   ]
  },
  {
   "cell_type": "markdown",
   "id": "40b4f2ae",
   "metadata": {},
   "source": [
    "#### 6. After making changes to an Image object, how could you save it as an image file?"
   ]
  },
  {
   "cell_type": "code",
   "execution_count": null,
   "id": "81224447",
   "metadata": {},
   "outputs": [],
   "source": [
    "#Example Program\n",
    "from PIL import Image\n",
    "pic = Image.open('ashok_chakra.jpg')\n",
    "pic.save('ashok_chakra-new.jpg')"
   ]
  },
  {
   "cell_type": "markdown",
   "id": "e7f93fe0",
   "metadata": {},
   "source": [
    "#### 7. What module contains Pillow’s shape-drawing code?\n",
    "**Ans:** Pillows `ImageDraw` module contains Shape drawing methods"
   ]
  },
  {
   "cell_type": "markdown",
   "id": "03aee23d",
   "metadata": {},
   "source": [
    "#### 8. Image objects do not have drawing methods. What kind of object does? How do you get this kind of object?\n",
    "**Ans:** `ImageDraw` objects have shape-drawing methods such as `point()`, `line()`, or `rectangle()`.They are returned by passing the Image object to the `ImageDraw.Draw()` function."
   ]
  }
 ],
 "metadata": {
  "kernelspec": {
   "display_name": "Python 3 (ipykernel)",
   "language": "python",
   "name": "python3"
  },
  "language_info": {
   "codemirror_mode": {
    "name": "ipython",
    "version": 3
   },
   "file_extension": ".py",
   "mimetype": "text/x-python",
   "name": "python",
   "nbconvert_exporter": "python",
   "pygments_lexer": "ipython3",
   "version": "3.9.12"
  }
 },
 "nbformat": 4,
 "nbformat_minor": 5
}
