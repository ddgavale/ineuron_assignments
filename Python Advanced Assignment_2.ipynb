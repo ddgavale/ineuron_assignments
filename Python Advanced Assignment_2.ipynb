{
 "cells": [
  {
   "cell_type": "markdown",
   "id": "14598e1f",
   "metadata": {},
   "source": [
    "## Python Advance Assignment_2 Solution:\n",
    "### Submitted by ddgavale on 30.12.2022 (ineuron's-FSDS-python-advance-assignment)"
   ]
  },
  {
   "cell_type": "markdown",
   "id": "14bb783b",
   "metadata": {},
   "source": [
    "#### Q1. What is the relationship between classes and modules?\n",
    "**Ans:** A Python class is like an outline/blueprint/mold for creating a new object. An object is anything that you wish to manipulate or change while working through the code. Every time a class object is instantiated, which is when we declare a variable, a new object is initiated from scratch.\n",
    "\n",
    "Whereas in Python, Modules are simply files with the . py extension containing Python code that can be imported inside another Python Program. In simple terms, we can consider a module to be the same as a code library or a file that contains a set of functions/Classes that you want to include in your application."
   ]
  },
  {
   "cell_type": "markdown",
   "id": "7b6f1ff4",
   "metadata": {},
   "source": [
    "#### Q2. How do you make instances and classes?\n",
    "**Ans:** For creating a class instance. we call a class by its name and pass the arguments which its `__init__` method accepts.\n",
    "\n",
    "**Example:** `vishwak = employee('Male',20000)`, Here vishwak is an instance of class employee with attriubutes 'Male' and 20000.\n",
    "\n",
    "Whereas for creating a class, we use the `Class` keyword. Class keyword is followed by classname and semicolon.\n",
    "\n",
    "**Example:** Here Employee is a class created with `class` keyword with arguments gender and salary.\n",
    "\n",
    "`class Employee: def __init__(self, gender,salary): self.gender = gender self.salary = salary`"
   ]
  },
  {
   "cell_type": "markdown",
   "id": "66d5fb80",
   "metadata": {},
   "source": [
    "#### Q3. Where and how should be class attributes created?\n",
    "**Ans:** Class attributes or Class level Attributes belong to the class itself. these attributes will be shared by all the instances of the class. Hence these attributes are usually created/defined in the top of class definiation outside all methods.\n",
    "\n",
    "**Example:** In the below code we are defining a class attribute called no_of_wheels which will be shared by all the instances of the class Car\n",
    "\n",
    "`class Car: no_of_wheels = 4; # this is a class attribute def __init__(self,color,price,engine): self.color = color # All this are instance attributes self.price = price self.engine = engine`"
   ]
  },
  {
   "cell_type": "markdown",
   "id": "ea87e31e",
   "metadata": {},
   "source": [
    "#### Q4. Where and how are instance attributes created?\n",
    "**Ans:** Instances attributes are passed to the class when an object of the class is created. Unlike class attributes, instance attributes are not shared by all objects of the classs. instead each object maintains its own copy of instance attributes at object level. whereas incase of class attributes all instances of class refer to a single copy. Usually instance attributes are defined within the `__init__` method of class\n",
    "\n",
    "**Example:** In the below sample code we are creating a class Car with instance varaibles color, price, engine, which will be provided when an instance of class Car is created.\n",
    "\n",
    "`class Car: def __init__(self,color,price,engine): self.color = color # All this are instance attributes self.price = price self.engine = engine`\n",
    "\n",
    "`nexon_ev = Car('Indigo Blue', 1400000, 'electric')\n",
    "safari = Car('Pearl White',2100000, 'petrol')`\n",
    "\n",
    "nexon_ev, safari are both the instances of class Car with different instance variables."
   ]
  },
  {
   "cell_type": "markdown",
   "id": "2c19e169",
   "metadata": {},
   "source": [
    "#### Q5. What does the term \"self\" in a Python class mean?\n",
    "**Ans:** `self` represents the instance of the class (it represents the object itself). By using the “self” keyword we can access the attributes and methods of the class with in the class in python. It binds the attributes with the given arguments."
   ]
  },
  {
   "cell_type": "code",
   "execution_count": 1,
   "id": "11582b78",
   "metadata": {},
   "outputs": [
    {
     "name": "stdout",
     "output_type": "stream",
     "text": [
      "{'color': 'Indigo Blue', 'price': 1400000, 'engine': 'electric'}\n",
      "{'color': 'Pearl White', 'price': 2100000, 'engine': 'petrol'}\n"
     ]
    }
   ],
   "source": [
    "class Car:\n",
    "    def __init__(self,color,price,engine):\n",
    "        self.color = color # All this are instance attributes\n",
    "        self.price = price\n",
    "        self.engine = engine\n",
    "\n",
    "nexon_ev = Car('Indigo Blue', 1400000, 'electric')\n",
    "safari = Car('Pearl White',2100000, 'petrol')\n",
    "\n",
    "print(nexon_ev.__dict__)\n",
    "print(safari.__dict__)"
   ]
  },
  {
   "cell_type": "markdown",
   "id": "0fabc37a",
   "metadata": {},
   "source": [
    "#### Q6. How does a Python class handle operator overloading?\n",
    "**Ans:** Python Classes handle operator overloading by using special methods called **Magic methods**. these special methods usually begin and end with `__` (double underscore)\n",
    "**Example:** Magic methods for basic arithmetic operators are:\n",
    "\n",
    "* `+ -> __add__()`\n",
    "* `- -> __sub__()`\n",
    "* `* -> __mul__()`\n",
    "* `/ -> __div__()`"
   ]
  },
  {
   "cell_type": "code",
   "execution_count": 2,
   "id": "66c9bb25",
   "metadata": {},
   "outputs": [
    {
     "name": "stdout",
     "output_type": "stream",
     "text": [
      "The total number of pages in 2 books is 300\n"
     ]
    }
   ],
   "source": [
    "class Book:\n",
    "    def __init__(self,pages):\n",
    "        self.pages = pages\n",
    "    def __add__(self,other):\n",
    "        return self.pages + other.pages\n",
    "b1 = Book(100)\n",
    "b2 = Book(200)\n",
    "print(f'The total number of pages in 2 books is {b1+b2}')"
   ]
  },
  {
   "cell_type": "markdown",
   "id": "0da5cd8f",
   "metadata": {},
   "source": [
    "#### Q7. When do you consider allowing operator overloading of your classes?\n",
    "**Ans:** When we want to have different meaning for the same operator accroding to the context we use operator overloading."
   ]
  },
  {
   "cell_type": "markdown",
   "id": "89095164",
   "metadata": {},
   "source": [
    "#### Q8. What is the most popular form of operator overloading?\n",
    "**Ans:** The most popular form of operator overloading in python is by special methods called **Magic methods**. Which usually beign and end with double underscore `____`."
   ]
  },
  {
   "cell_type": "code",
   "execution_count": 4,
   "id": "5c44999d",
   "metadata": {},
   "outputs": [
    {
     "name": "stdout",
     "output_type": "stream",
     "text": [
      "Sum -> 3\n",
      "String Concatenation -> Dhananjay Gavale\n"
     ]
    }
   ],
   "source": [
    "class A:\n",
    "    def __init__(self,a):\n",
    "        self.a = a\n",
    "    def __add__(self,o):\n",
    "        return self.a+o.a\n",
    "obj1 = A(1)\n",
    "obj2 = A(2)\n",
    "obj3 = A('Dhananjay')\n",
    "obj4 = A(' Gavale')\n",
    "print(f'Sum -> {obj1+obj2}')\n",
    "print(f'String Concatenation -> {obj3+obj4}')"
   ]
  },
  {
   "cell_type": "markdown",
   "id": "c4092dce",
   "metadata": {},
   "source": [
    "#### Q9. What are the two most important concepts to grasp in order to comprehend Python OOP code?\n",
    "**Ans:** Classes and objects are the two concepts to comprehend python OOP code as more formally objects are entities that represent instances of general abstract concept called class.\n",
    "\n",
    "Along with classes and objects the important concepts to grasp are:\n",
    "\n",
    "1. Inheritence\n",
    "2. Abstraction\n",
    "3. Polymorphism\n",
    "4. Encapsulation"
   ]
  }
 ],
 "metadata": {
  "kernelspec": {
   "display_name": "Python 3 (ipykernel)",
   "language": "python",
   "name": "python3"
  },
  "language_info": {
   "codemirror_mode": {
    "name": "ipython",
    "version": 3
   },
   "file_extension": ".py",
   "mimetype": "text/x-python",
   "name": "python",
   "nbconvert_exporter": "python",
   "pygments_lexer": "ipython3",
   "version": "3.9.12"
  }
 },
 "nbformat": 4,
 "nbformat_minor": 5
}
